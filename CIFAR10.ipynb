{
  "cells": [
    {
      "cell_type": "code",
      "execution_count": null,
      "metadata": {
        "id": "Vpmwz7qbFh7b"
      },
      "outputs": [],
      "source": [
        "import tensorflow as tf\n",
        "from tensorflow.keras import datasets, layers, models\n",
        "import matplotlib.pyplot as plt\n",
        "import numpy as np"
      ]
    },
    {
      "cell_type": "code",
      "execution_count": null,
      "metadata": {
        "colab": {
          "base_uri": "https://localhost:8080/"
        },
        "id": "GuFPp3IPF_YE",
        "outputId": "c8cb28d5-9bd6-4487-f557-a689568abeff"
      },
      "outputs": [
        {
          "name": "stdout",
          "output_type": "stream",
          "text": [
            "Downloading data from https://www.cs.toronto.edu/~kriz/cifar-10-python.tar.gz\n",
            "170500096/170498071 [==============================] - 8s 0us/step\n",
            "170508288/170498071 [==============================] - 8s 0us/step\n"
          ]
        }
      ],
      "source": [
        "(X_train, y_train),(X_test, y_test) = datasets.cifar10.load_data()"
      ]
    },
    {
      "cell_type": "code",
      "execution_count": null,
      "metadata": {
        "colab": {
          "base_uri": "https://localhost:8080/"
        },
        "id": "R9IUBUx6GYE-",
        "outputId": "632dcab8-5f28-4daf-f0a3-3aa7458bb44d"
      },
      "outputs": [
        {
          "name": "stdout",
          "output_type": "stream",
          "text": [
            "X_train:  (50000, 32, 32, 3)\n",
            "X_test:  (10000, 32, 32, 3)\n"
          ]
        }
      ],
      "source": [
        "print(\"X_train: \",(X_train.shape))\n",
        "print(\"X_test: \",(X_test.shape))"
      ]
    },
    {
      "cell_type": "code",
      "execution_count": null,
      "metadata": {
        "colab": {
          "base_uri": "https://localhost:8080/"
        },
        "id": "jFTndqr8IBMT",
        "outputId": "a601d391-9365-4ada-b093-213b333660ca"
      },
      "outputs": [
        {
          "data": {
            "text/plain": [
              "array([[6],\n",
              "       [9],\n",
              "       [9],\n",
              "       [4],\n",
              "       [1]], dtype=uint8)"
            ]
          },
          "execution_count": 4,
          "metadata": {},
          "output_type": "execute_result"
        }
      ],
      "source": [
        "y_train[:5]    # 2 dimensional array"
      ]
    },
    {
      "cell_type": "code",
      "execution_count": null,
      "metadata": {
        "colab": {
          "base_uri": "https://localhost:8080/"
        },
        "id": "hlSWx_CeIQwm",
        "outputId": "2076cbb5-d7dc-4ab5-a6c1-3bd98e874d5d"
      },
      "outputs": [
        {
          "data": {
            "text/plain": [
              "array([6, 9, 9, 4, 1], dtype=uint8)"
            ]
          },
          "execution_count": 5,
          "metadata": {},
          "output_type": "execute_result"
        }
      ],
      "source": [
        "y_train = y_train.reshape(-1, )\n",
        "y_train[:5]"
      ]
    },
    {
      "cell_type": "code",
      "execution_count": null,
      "metadata": {
        "id": "JsH3LoFjHijG"
      },
      "outputs": [],
      "source": [
        "classes = [\"airplane\", \"automobile\", \"bird\", \"cat\",\"deer\",\"dog\",\"frog\",\"horse\",\"ship\",\"truck\"]"
      ]
    },
    {
      "cell_type": "code",
      "execution_count": null,
      "metadata": {
        "colab": {
          "base_uri": "https://localhost:8080/",
          "height": 35
        },
        "id": "NR-9g1SjInNz",
        "outputId": "9ed881c5-c7be-4797-fb7c-5e8dfb3a01eb"
      },
      "outputs": [
        {
          "data": {
            "application/vnd.google.colaboratory.intrinsic+json": {
              "type": "string"
            },
            "text/plain": [
              "'ship'"
            ]
          },
          "execution_count": 8,
          "metadata": {},
          "output_type": "execute_result"
        }
      ],
      "source": [
        "classes[8]"
      ]
    },
    {
      "cell_type": "code",
      "execution_count": null,
      "metadata": {
        "colab": {
          "base_uri": "https://localhost:8080/",
          "height": 283
        },
        "id": "uE6SIv1IGdzU",
        "outputId": "ef878cc1-c9cd-4328-ebad-7c001dbbe920"
      },
      "outputs": [
        {
          "data": {
            "text/plain": [
              "<matplotlib.image.AxesImage at 0x7ff296920910>"
            ]
          },
          "execution_count": 9,
          "metadata": {},
          "output_type": "execute_result"
        },
        {
          "data": {
            "image/png": "[encoded data removed]",
            "text/plain": [
              "<Figure size 432x288 with 1 Axes>"
            ]
          },
          "metadata": {},
          "output_type": "display_data"
        }
      ],
      "source": [
        "plt.imshow(X_train[0])  #frog is at index 0"
      ]
    },
    {
      "cell_type": "code",
      "execution_count": null,
      "metadata": {
        "colab": {
          "base_uri": "https://localhost:8080/",
          "height": 283
        },
        "id": "ZfZLtt9GHS3I",
        "outputId": "39588cd1-9694-4a8d-8d65-c1c7c2f671bb"
      },
      "outputs": [
        {
          "data": {
            "text/plain": [
              "<matplotlib.image.AxesImage at 0x7ff2964039d0>"
            ]
          },
          "execution_count": 10,
          "metadata": {},
          "output_type": "execute_result"
        },
        {
          "data": {
            "image/png": "[encoded data removed]",
            "text/plain": [
              "<Figure size 432x288 with 1 Axes>"
            ]
          },
          "metadata": {},
          "output_type": "display_data"
        }
      ],
      "source": [
        "plt.imshow(X_train[1])  #truck is at index 1"
      ]
    },
    {
      "cell_type": "code",
      "execution_count": null,
      "metadata": {
        "id": "c-6r1hMfIx4x"
      },
      "outputs": [],
      "source": [
        "def plot_sample(X,y,index):\n",
        "  plt.figure(figsize = (15,2))\n",
        "  plt.imshow(X[index])\n",
        "  plt.xlabel(classes[y[index]])"
      ]
    },
    {
      "cell_type": "code",
      "execution_count": null,
      "metadata": {
        "colab": {
          "base_uri": "https://localhost:8080/",
          "height": 173
        },
        "id": "1FGrTFGEJJ-t",
        "outputId": "d696292b-d383-4b57-edf8-2f4474dda91d"
      },
      "outputs": [
        {
          "data": {
            "image/png": "[encoded data removed]",
            "text/plain": [
              "<Figure size 1080x144 with 1 Axes>"
            ]
          },
          "metadata": {},
          "output_type": "display_data"
        }
      ],
      "source": [
        "plot_sample(X_train , y_train, 0)"
      ]
    },
    {
      "cell_type": "code",
      "execution_count": null,
      "metadata": {
        "id": "HG4fgI6uJqyI"
      },
      "outputs": [],
      "source": [
        "#Normalize the data\n",
        "#Divide each pixel value by 255 because the pixel value ranges from 0 - 255\n",
        "X_train = X_train / 255.0 \n",
        "X_test = X_test / 255.0\n",
        "\n",
        "#This normalizes it from 0-1 range"
      ]
    },
    {
      "cell_type": "markdown",
      "metadata": {
        "id": "sEZpJAmZLDXd"
      },
      "source": [
        "Building an Artificial Neural Network **ANN** first to check the Performance"
      ]
    },
    {
      "cell_type": "code",
      "execution_count": null,
      "metadata": {
        "colab": {
          "base_uri": "https://localhost:8080/"
        },
        "id": "0iWg46ajK84N",
        "outputId": "1f2e45dd-4839-4275-d38c-bf82c8331151"
      },
      "outputs": [
        {
          "name": "stdout",
          "output_type": "stream",
          "text": [
            "Epoch 1/10\n",
            "1563/1563 [==============================] - 90s 58ms/step - loss: 1.8113 - accuracy: 0.3568\n",
            "Epoch 2/10\n",
            "1563/1563 [==============================] - 89s 57ms/step - loss: 1.6219 - accuracy: 0.4270\n",
            "Epoch 3/10\n",
            "1563/1563 [==============================] - 90s 57ms/step - loss: 1.5400 - accuracy: 0.4571\n",
            "Epoch 4/10\n",
            "1563/1563 [==============================] - 90s 57ms/step - loss: 1.4804 - accuracy: 0.4789\n",
            "Epoch 5/10\n",
            "1563/1563 [==============================] - 89s 57ms/step - loss: 1.4306 - accuracy: 0.4966\n",
            "Epoch 6/10\n",
            "1563/1563 [==============================] - 89s 57ms/step - loss: 1.3875 - accuracy: 0.5106\n",
            "Epoch 7/10\n",
            "1563/1563 [==============================] - 89s 57ms/step - loss: 1.3492 - accuracy: 0.5248\n",
            "Epoch 8/10\n",
            "1563/1563 [==============================] - 89s 57ms/step - loss: 1.3142 - accuracy: 0.5390\n",
            "Epoch 9/10\n",
            "1563/1563 [==============================] - 89s 57ms/step - loss: 1.2793 - accuracy: 0.5507\n",
            "Epoch 10/10\n",
            "1563/1563 [==============================] - 89s 57ms/step - loss: 1.2515 - accuracy: 0.5610\n"
          ]
        },
        {
          "data": {
            "text/plain": [
              "<keras.callbacks.History at 0x7ff292211cd0>"
            ]
          },
          "execution_count": 14,
          "metadata": {},
          "output_type": "execute_result"
        }
      ],
      "source": [
        "ann = models.Sequential([\n",
        "        layers.Flatten(input_shape=(32,32,3)),\n",
        "        layers.Dense(3000, activation='relu'),\n",
        "        layers.Dense(1000, activation='relu'),\n",
        "        layers.Dense(10, activation='softmax')    \n",
        "    ])\n",
        "\n",
        "ann.compile(optimizer='SGD',\n",
        "              loss='sparse_categorical_crossentropy',\n",
        "              metrics=['accuracy'])\n",
        "\n",
        "ann.fit(X_train, y_train, epochs=10)"
      ]
    },
    {
      "cell_type": "code",
      "execution_count": null,
      "metadata": {
        "colab": {
          "base_uri": "https://localhost:8080/"
        },
        "id": "6GW8r1C3PwhE",
        "outputId": "9f96cd05-9ab6-4246-c0a0-1ef8ef0f440e"
      },
      "outputs": [
        {
          "name": "stdout",
          "output_type": "stream",
          "text": [
            "313/313 [==============================] - 7s 22ms/step - loss: 1.6389 - accuracy: 0.4326\n"
          ]
        },
        {
          "data": {
            "text/plain": [
              "[1.638891577720642, 0.4325999915599823]"
            ]
          },
          "execution_count": 15,
          "metadata": {},
          "output_type": "execute_result"
        }
      ],
      "source": [
        "ann.evaluate(X_test, y_test)"
      ]
    },
    {
      "cell_type": "code",
      "execution_count": null,
      "metadata": {
        "colab": {
          "base_uri": "https://localhost:8080/"
        },
        "id": "mjbr_9DwSpBY",
        "outputId": "f205352e-c7a6-415f-a6ea-e9d6b1e0b215"
      },
      "outputs": [
        {
          "name": "stdout",
          "output_type": "stream",
          "text": [
            "Classification Report:  \n",
            "\n",
            "               precision    recall  f1-score   support\n",
            "\n",
            "           0       0.72      0.24      0.36      1000\n",
            "           1       0.82      0.37      0.51      1000\n",
            "           2       0.22      0.77      0.34      1000\n",
            "           3       0.38      0.27      0.32      1000\n",
            "           4       0.33      0.47      0.39      1000\n",
            "           5       0.50      0.27      0.35      1000\n",
            "           6       0.55      0.54      0.55      1000\n",
            "           7       0.83      0.28      0.42      1000\n",
            "           8       0.72      0.53      0.61      1000\n",
            "           9       0.57      0.58      0.58      1000\n",
            "\n",
            "    accuracy                           0.43     10000\n",
            "   macro avg       0.57      0.43      0.44     10000\n",
            "weighted avg       0.57      0.43      0.44     10000\n",
            "\n",
            "Classification Report:  \n",
            "\n",
            "               precision    recall  f1-score   support\n",
            "\n",
            "           0       0.72      0.24      0.36      1000\n",
            "           1       0.82      0.37      0.51      1000\n",
            "           2       0.22      0.77      0.34      1000\n",
            "           3       0.38      0.27      0.32      1000\n",
            "           4       0.33      0.47      0.39      1000\n",
            "           5       0.50      0.27      0.35      1000\n",
            "           6       0.55      0.54      0.55      1000\n",
            "           7       0.83      0.28      0.42      1000\n",
            "           8       0.72      0.53      0.61      1000\n",
            "           9       0.57      0.58      0.58      1000\n",
            "\n",
            "    accuracy                           0.43     10000\n",
            "   macro avg       0.57      0.43      0.44     10000\n",
            "weighted avg       0.57      0.43      0.44     10000\n",
            "\n"
          ]
        }
      ],
      "source": [
        "from sklearn.metrics import confusion_matrix , classification_report\n",
        "import numpy as np\n",
        "y_pred = ann.predict(X_test)\n",
        "y_pred_classes = [np.argmax(element) for element in y_pred]\n",
        "\n",
        "print(\"Classification Report:  \\n\\n\", classification_report(y_test, y_pred_classes))"
      ]
    },
    {
      "cell_type": "markdown",
      "metadata": {
        "id": "rsatqARIW_NQ"
      },
      "source": [
        "Building a Convolutional Neural Network **(CNN)**"
      ]
    },
    {
      "cell_type": "code",
      "execution_count": null,
      "metadata": {
        "id": "l1ATNDqfWjvH"
      },
      "outputs": [],
      "source": [
        "cnn = models.Sequential([\n",
        "                         \n",
        "        #cnn layers\n",
        "        layers.Conv2D(filters=32, kernel_size=(3,3), activation ='relu', input_shape=(32,32,3)),\n",
        "        layers.MaxPooling2D((2,2)),\n",
        "\n",
        "        layers.Conv2D(filters=32, kernel_size=(3,3), activation ='relu') , \n",
        "        layers.MaxPooling2D((2,2)),\n",
        "\n",
        "        #dense layers\n",
        "        layers.Flatten(),\n",
        "        layers.Dense(64, activation='relu'),\n",
        "        layers.Dense(10, activation='softmax')    \n",
        "    ])"
      ]
    },
    {
      "cell_type": "code",
      "execution_count": null,
      "metadata": {
        "id": "9GPTTElOZX9t"
      },
      "outputs": [],
      "source": [
        "cnn.compile(optimizer='adam',\n",
        "            loss = 'sparse_categorical_crossentropy',\n",
        "            metrics = [\"accuracy\"])"
      ]
    },
    {
      "cell_type": "code",
      "execution_count": null,
      "metadata": {
        "colab": {
          "base_uri": "https://localhost:8080/"
        },
        "id": "LAAibuJeZz3f",
        "outputId": "fa60c2ef-ab52-4888-b8e5-d7211102a067"
      },
      "outputs": [
        {
          "output_type": "stream",
          "name": "stdout",
          "text": [
            "Epoch 1/10\n",
            "1563/1563 [==============================] - 46s 30ms/step - loss: 0.6824 - accuracy: 0.7595\n",
            "Epoch 2/10\n",
            "1563/1563 [==============================] - 46s 30ms/step - loss: 0.6521 - accuracy: 0.7694\n",
            "Epoch 3/10\n",
            "1563/1563 [==============================] - 46s 30ms/step - loss: 0.6290 - accuracy: 0.7763\n",
            "Epoch 4/10\n",
            "1563/1563 [==============================] - 46s 30ms/step - loss: 0.6010 - accuracy: 0.7887\n",
            "Epoch 5/10\n",
            "1563/1563 [==============================] - 47s 30ms/step - loss: 0.5807 - accuracy: 0.7924\n",
            "Epoch 6/10\n",
            "1563/1563 [==============================] - 46s 30ms/step - loss: 0.5627 - accuracy: 0.8001\n",
            "Epoch 7/10\n",
            "1563/1563 [==============================] - 46s 30ms/step - loss: 0.5380 - accuracy: 0.8101\n",
            "Epoch 8/10\n",
            "1563/1563 [==============================] - 47s 30ms/step - loss: 0.5246 - accuracy: 0.8127\n",
            "Epoch 9/10\n",
            "1563/1563 [==============================] - 46s 29ms/step - loss: 0.5003 - accuracy: 0.8213\n",
            "Epoch 10/10\n",
            "1563/1563 [==============================] - 46s 29ms/step - loss: 0.4843 - accuracy: 0.8272\n"
          ]
        },
        {
          "output_type": "execute_result",
          "data": {
            "text/plain": [
              "<keras.callbacks.History at 0x7ff28e74edd0>"
            ]
          },
          "metadata": {},
          "execution_count": 22
        }
      ],
      "source": [
        "cnn.fit(X_train, y_train, epochs = 10)"
      ]
    },
    {
      "cell_type": "code",
      "source": [
        "cnn.evaluate(X_test, y_test)"
      ],
      "metadata": {
        "colab": {
          "base_uri": "https://localhost:8080/"
        },
        "id": "jWBl1M91eBB0",
        "outputId": "a3f49287-2416-44e9-a12b-896da5666322"
      },
      "execution_count": null,
      "outputs": [
        {
          "output_type": "stream",
          "name": "stdout",
          "text": [
            "313/313 [==============================] - 3s 9ms/step - loss: 1.0875 - accuracy: 0.6806\n"
          ]
        },
        {
          "output_type": "execute_result",
          "data": {
            "text/plain": [
              "[1.0875455141067505, 0.6805999875068665]"
            ]
          },
          "metadata": {},
          "execution_count": 23
        }
      ]
    },
    {
      "cell_type": "code",
      "source": [
        "y_test[:5]   #2 dimensional array"
      ],
      "metadata": {
        "colab": {
          "base_uri": "https://localhost:8080/"
        },
        "id": "nSdTeqPSeRjc",
        "outputId": "1014dc1c-f2e1-42b8-bd7f-ee751728dc14"
      },
      "execution_count": null,
      "outputs": [
        {
          "output_type": "execute_result",
          "data": {
            "text/plain": [
              "array([[3],\n",
              "       [8],\n",
              "       [8],\n",
              "       [0],\n",
              "       [6]], dtype=uint8)"
            ]
          },
          "metadata": {},
          "execution_count": 24
        }
      ]
    },
    {
      "cell_type": "code",
      "source": [
        "y_test = y_test.reshape(-1)  #converting to 1 dimensional array\n",
        "y_test[:5]"
      ],
      "metadata": {
        "colab": {
          "base_uri": "https://localhost:8080/"
        },
        "id": "MdH2QNq7ejKk",
        "outputId": "82d20fc7-a194-4ec8-e287-e8a20e6819a8"
      },
      "execution_count": null,
      "outputs": [
        {
          "output_type": "execute_result",
          "data": {
            "text/plain": [
              "array([3, 8, 8, 0, 6], dtype=uint8)"
            ]
          },
          "metadata": {},
          "execution_count": 25
        }
      ]
    },
    {
      "cell_type": "code",
      "source": [
        "plot_sample(X_test, y_test, 1)"
      ],
      "metadata": {
        "colab": {
          "base_uri": "https://localhost:8080/",
          "height": 173
        },
        "id": "yqBlFkwTextz",
        "outputId": "6eb1bcc7-24ef-43c7-f9f9-1b855d551562"
      },
      "execution_count": null,
      "outputs": [
        {
          "output_type": "display_data",
          "data": {
            "image/png": "[encoded data removed]",
            "text/plain": [
              "<Figure size 1080x144 with 1 Axes>"
            ]
          },
          "metadata": {
            "needs_background": "light"
          }
        }
      ]
    },
    {
      "cell_type": "markdown",
      "source": [
        "Predicting the Model and seeing its Performance"
      ],
      "metadata": {
        "id": "AW-BhQR8fAar"
      }
    },
    {
      "cell_type": "code",
      "source": [
        "y_pred = cnn.predict(X_test)\n",
        "y_pred[:5]"
      ],
      "metadata": {
        "colab": {
          "base_uri": "https://localhost:8080/"
        },
        "id": "x_QGMkr2e-mj",
        "outputId": "33dc8684-79d5-4244-a3df-76942fe425cd"
      },
      "execution_count": null,
      "outputs": [
        {
          "output_type": "execute_result",
          "data": {
            "text/plain": [
              "array([[3.7369886e-03, 6.6614222e-05, 9.0280271e-05, 6.5453762e-01,\n",
              "        6.6188462e-03, 3.2367632e-01, 6.7862677e-03, 1.1806968e-03,\n",
              "        3.3051935e-03, 1.1191619e-06],\n",
              "       [3.0054467e-05, 1.8869616e-02, 7.9500007e-09, 4.9849194e-07,\n",
              "        6.6286121e-10, 1.5287295e-09, 1.8633511e-08, 1.1776559e-11,\n",
              "        9.8091942e-01, 1.8043502e-04],\n",
              "       [2.2231069e-01, 2.4972237e-03, 6.5372314e-04, 2.1129495e-03,\n",
              "        1.1147179e-03, 7.3532632e-05, 4.0156719e-05, 2.3497925e-04,\n",
              "        7.6523340e-01, 5.7286010e-03],\n",
              "       [9.8786330e-01, 2.2064701e-04, 7.0307497e-03, 1.7565796e-06,\n",
              "        2.5254951e-04, 1.7336687e-07, 6.3939315e-06, 9.6193025e-06,\n",
              "        4.6018353e-03, 1.2979020e-05],\n",
              "       [5.3397844e-08, 7.1707262e-10, 1.3686435e-02, 4.3438923e-02,\n",
              "        9.3863517e-01, 3.8413068e-03, 3.9789442e-04, 1.5485847e-07,\n",
              "        1.4740385e-07, 3.0424696e-09]], dtype=float32)"
            ]
          },
          "metadata": {},
          "execution_count": 27
        }
      ]
    },
    {
      "cell_type": "code",
      "source": [
        "y_classes = [np.argmax(element) for element in y_pred]\n",
        "y_classes[:5]"
      ],
      "metadata": {
        "colab": {
          "base_uri": "https://localhost:8080/"
        },
        "id": "QlBeRq5Ifi4q",
        "outputId": "7b23e321-da09-4747-be9a-437fd53f3c10"
      },
      "execution_count": null,
      "outputs": [
        {
          "output_type": "execute_result",
          "data": {
            "text/plain": [
              "[3, 8, 8, 0, 4]"
            ]
          },
          "metadata": {},
          "execution_count": 28
        }
      ]
    },
    {
      "cell_type": "code",
      "source": [
        "y_test[:5]"
      ],
      "metadata": {
        "colab": {
          "base_uri": "https://localhost:8080/"
        },
        "id": "lFim1unOf-Qy",
        "outputId": "a61d1ce3-8963-4f64-d553-5627780387a9"
      },
      "execution_count": null,
      "outputs": [
        {
          "output_type": "execute_result",
          "data": {
            "text/plain": [
              "array([3, 8, 8, 0, 6], dtype=uint8)"
            ]
          },
          "metadata": {},
          "execution_count": 29
        }
      ]
    },
    {
      "cell_type": "markdown",
      "source": [
        "So as you can see above, our model predicts all the correct values for our classes except one value which is 6. All the other alues have been predicted successfully as a result of 82% accuracy that was achieved."
      ],
      "metadata": {
        "id": "Xq4C2cJcgRRz"
      }
    },
    {
      "cell_type": "code",
      "source": [
        "plot_sample(X_test, y_test, 1)"
      ],
      "metadata": {
        "colab": {
          "base_uri": "https://localhost:8080/",
          "height": 173
        },
        "id": "OlrPkSf8gnbz",
        "outputId": "4dd4902e-9b33-48ee-bb5b-70981f3f245b"
      },
      "execution_count": null,
      "outputs": [
        {
          "output_type": "display_data",
          "data": {
            "image/png": "[encoded data removed]",
            "text/plain": [
              "<Figure size 1080x144 with 1 Axes>"
            ]
          },
          "metadata": {
            "needs_background": "light"
          }
        }
      ]
    },
    {
      "cell_type": "code",
      "source": [
        "classes[y_classes[1]]"
      ],
      "metadata": {
        "colab": {
          "base_uri": "https://localhost:8080/",
          "height": 35
        },
        "id": "RTbPZ5kGhAba",
        "outputId": "c57719ec-bef7-4925-c5fa-157f507a73c0"
      },
      "execution_count": null,
      "outputs": [
        {
          "output_type": "execute_result",
          "data": {
            "application/vnd.google.colaboratory.intrinsic+json": {
              "type": "string"
            },
            "text/plain": [
              "'ship'"
            ]
          },
          "metadata": {},
          "execution_count": 31
        },
        {
          "output_type": "execute_result",
          "data": {
            "application/vnd.google.colaboratory.intrinsic+json": {
              "type": "string"
            },
            "text/plain": [
              "'ship'"
            ]
          },
          "metadata": {},
          "execution_count": 32
        }
      ]
    },
    {
      "cell_type": "markdown",
      "source": [
        "Here(above) the model has predicted correctly"
      ],
      "metadata": {
        "id": "EXPy8-U3hkfS"
      }
    },
    {
      "cell_type": "code",
      "source": [
        "plot_sample(X_test, y_test, 4)"
      ],
      "metadata": {
        "colab": {
          "base_uri": "https://localhost:8080/",
          "height": 173
        },
        "id": "9oEQDFXthsmL",
        "outputId": "8b383805-2959-43f4-a7ac-c411651f0c50"
      },
      "execution_count": null,
      "outputs": [
        {
          "output_type": "display_data",
          "data": {
            "image/png": "[encoded data removed]",
            "text/plain": [
              "<Figure size 1080x144 with 1 Axes>"
            ]
          },
          "metadata": {
            "needs_background": "light"
          }
        }
      ]
    },
    {
      "cell_type": "code",
      "source": [
        "classes[y_classes[1]]"
      ],
      "metadata": {
        "id": "5-4nBs6PiI0Z"
      },
      "execution_count": null,
      "outputs": []
    }
  ],
  "metadata": {
    "colab": {
      "name": "CIFAR10.ipynb",
      "provenance": [],
      "collapsed_sections": []
    },
    "kernelspec": {
      "display_name": "Python 3",
      "name": "python3"
    },
    "language_info": {
      "name": "python"
    }
  },
  "nbformat": 4,
  "nbformat_minor": 0
}